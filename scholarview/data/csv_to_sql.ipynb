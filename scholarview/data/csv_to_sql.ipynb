{
 "cells": [
  {
   "cell_type": "code",
   "execution_count": 12,
   "metadata": {},
   "outputs": [
    {
     "name": "stdout",
     "output_type": "stream",
     "text": [
      "articles-copy\\03. Edgar Solomonik.csv\n",
      "articles-copy\\04. Elsa Gunter.csv\n",
      "articles-copy\\05. Eric Shaffer.csv\n",
      "articles-copy\\06. Karrie Karahalios.csv\n",
      "articles-copy\\07. Tarek Abdelzaher.csv\n",
      "articles-copy\\08. Vikram Adve.csv\n",
      "articles-copy\\09. Nancy M Amato.csv\n",
      "articles-copy\\10. Brian P Bailey.csv\n",
      "articles-copy\\11. Adam Bates.csv\n",
      "articles-copy\\12. Mattox Alan Beckman.csv\n",
      "articles-copy\\13. Marco Caccamo.csv\n",
      "articles-copy\\14. Geoffrey Werner Challen.csv\n",
      "articles-copy\\15. Timothy Chan.csv\n",
      "articles-copy\\16. Kevin Chen-Chuan Chang.csv\n",
      "articles-copy\\17. Chandra Chekuri.csv\n",
      "articles-copy\\18. Neal E Davis.csv\n",
      "articles-copy\\19. Mohammed El-Kebir.csv\n",
      "articles-copy\\20. Wade A Fagen-Ulmschneider.csv\n",
      "articles-copy\\22. Margret M Fleck.csv\n",
      "articles-copy\\23. Christopher W Fletcher.csv\n",
      "articles-copy\\24. P Brighten Godfrey.csv\n",
      "articles-copy\\25. William Gropp.csv\n"
     ]
    }
   ],
   "source": [
    "import os\n",
    "\n",
    "\n",
    "directory = \"articles-copy\"\n",
    "for filename in os.listdir(directory):\n",
    "    if filename.endswith(\".csv\"): \n",
    "        print(os.path.join(directory, filename))\n",
    "        \n",
    "        \n",
    "        \n",
    "        \n",
    "\n",
    "    break"
   ]
  }
 ],
 "metadata": {
  "kernelspec": {
   "display_name": "Python 3",
   "language": "python",
   "name": "python3"
  },
  "language_info": {
   "codemirror_mode": {
    "name": "ipython",
    "version": 3
   },
   "file_extension": ".py",
   "mimetype": "text/x-python",
   "name": "python",
   "nbconvert_exporter": "python",
   "pygments_lexer": "ipython3",
   "version": "3.7.3"
  }
 },
 "nbformat": 4,
 "nbformat_minor": 2
}
